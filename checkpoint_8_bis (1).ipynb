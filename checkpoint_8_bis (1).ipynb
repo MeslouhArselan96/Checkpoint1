{
  "nbformat": 4,
  "nbformat_minor": 0,
  "metadata": {
    "colab": {
      "name": "checkpoint_8_bis.ipynb",
      "provenance": [],
      "collapsed_sections": []
    },
    "kernelspec": {
      "name": "python3",
      "display_name": "Python 3"
    }
  },
  "cells": [
    {
      "cell_type": "code",
      "metadata": {
        "id": "2H_tXhuWDhTQ"
      },
      "source": [
        "import pandas as pd\r\n",
        "import numpy as np\r\n",
        "import matplotlib.pyplot as plt\r\n",
        "import seaborn as sns \r\n",
        "from sklearn.cluster import AgglomerativeClustering\r\n",
        "import scipy.cluster.hierarchy as ah\r\n",
        "from sklearn.cluster import KMeans\r\n",
        "from sklearn.decomposition import PCA"
      ],
      "execution_count": 1,
      "outputs": []
    },
    {
      "cell_type": "code",
      "metadata": {
        "colab": {
          "base_uri": "https://localhost:8080/",
          "height": 435
        },
        "id": "uAZEYvOrHww8",
        "outputId": "9fd19480-21fb-454e-9f55-7888a72f9855"
      },
      "source": [
        "data=pd.read_csv(\"CC GENERAL.csv\", sep=',')\r\n",
        "data"
      ],
      "execution_count": 3,
      "outputs": [
        {
          "output_type": "execute_result",
          "data": {
            "text/html": [
              "<div>\n",
              "<style scoped>\n",
              "    .dataframe tbody tr th:only-of-type {\n",
              "        vertical-align: middle;\n",
              "    }\n",
              "\n",
              "    .dataframe tbody tr th {\n",
              "        vertical-align: top;\n",
              "    }\n",
              "\n",
              "    .dataframe thead th {\n",
              "        text-align: right;\n",
              "    }\n",
              "</style>\n",
              "<table border=\"1\" class=\"dataframe\">\n",
              "  <thead>\n",
              "    <tr style=\"text-align: right;\">\n",
              "      <th></th>\n",
              "      <th>CUST_ID</th>\n",
              "      <th>BALANCE</th>\n",
              "      <th>BALANCE_FREQUENCY</th>\n",
              "      <th>PURCHASES</th>\n",
              "      <th>ONEOFF_PURCHASES</th>\n",
              "      <th>INSTALLMENTS_PURCHASES</th>\n",
              "      <th>CASH_ADVANCE</th>\n",
              "      <th>PURCHASES_FREQUENCY</th>\n",
              "      <th>ONEOFF_PURCHASES_FREQUENCY</th>\n",
              "      <th>PURCHASES_INSTALLMENTS_FREQUENCY</th>\n",
              "      <th>CASH_ADVANCE_FREQUENCY</th>\n",
              "      <th>CASH_ADVANCE_TRX</th>\n",
              "      <th>PURCHASES_TRX</th>\n",
              "      <th>CREDIT_LIMIT</th>\n",
              "      <th>PAYMENTS</th>\n",
              "      <th>MINIMUM_PAYMENTS</th>\n",
              "      <th>PRC_FULL_PAYMENT</th>\n",
              "      <th>TENURE</th>\n",
              "    </tr>\n",
              "  </thead>\n",
              "  <tbody>\n",
              "    <tr>\n",
              "      <th>0</th>\n",
              "      <td>C10001</td>\n",
              "      <td>40.900749</td>\n",
              "      <td>0.818182</td>\n",
              "      <td>95.40</td>\n",
              "      <td>0.00</td>\n",
              "      <td>95.40</td>\n",
              "      <td>0.000000</td>\n",
              "      <td>0.166667</td>\n",
              "      <td>0.000000</td>\n",
              "      <td>0.083333</td>\n",
              "      <td>0.000000</td>\n",
              "      <td>0</td>\n",
              "      <td>2</td>\n",
              "      <td>1000.0</td>\n",
              "      <td>201.802084</td>\n",
              "      <td>139.509787</td>\n",
              "      <td>0.000000</td>\n",
              "      <td>12</td>\n",
              "    </tr>\n",
              "    <tr>\n",
              "      <th>1</th>\n",
              "      <td>C10002</td>\n",
              "      <td>3202.467416</td>\n",
              "      <td>0.909091</td>\n",
              "      <td>0.00</td>\n",
              "      <td>0.00</td>\n",
              "      <td>0.00</td>\n",
              "      <td>6442.945483</td>\n",
              "      <td>0.000000</td>\n",
              "      <td>0.000000</td>\n",
              "      <td>0.000000</td>\n",
              "      <td>0.250000</td>\n",
              "      <td>4</td>\n",
              "      <td>0</td>\n",
              "      <td>7000.0</td>\n",
              "      <td>4103.032597</td>\n",
              "      <td>1072.340217</td>\n",
              "      <td>0.222222</td>\n",
              "      <td>12</td>\n",
              "    </tr>\n",
              "    <tr>\n",
              "      <th>2</th>\n",
              "      <td>C10003</td>\n",
              "      <td>2495.148862</td>\n",
              "      <td>1.000000</td>\n",
              "      <td>773.17</td>\n",
              "      <td>773.17</td>\n",
              "      <td>0.00</td>\n",
              "      <td>0.000000</td>\n",
              "      <td>1.000000</td>\n",
              "      <td>1.000000</td>\n",
              "      <td>0.000000</td>\n",
              "      <td>0.000000</td>\n",
              "      <td>0</td>\n",
              "      <td>12</td>\n",
              "      <td>7500.0</td>\n",
              "      <td>622.066742</td>\n",
              "      <td>627.284787</td>\n",
              "      <td>0.000000</td>\n",
              "      <td>12</td>\n",
              "    </tr>\n",
              "    <tr>\n",
              "      <th>3</th>\n",
              "      <td>C10004</td>\n",
              "      <td>1666.670542</td>\n",
              "      <td>0.636364</td>\n",
              "      <td>1499.00</td>\n",
              "      <td>1499.00</td>\n",
              "      <td>0.00</td>\n",
              "      <td>205.788017</td>\n",
              "      <td>0.083333</td>\n",
              "      <td>0.083333</td>\n",
              "      <td>0.000000</td>\n",
              "      <td>0.083333</td>\n",
              "      <td>1</td>\n",
              "      <td>1</td>\n",
              "      <td>7500.0</td>\n",
              "      <td>0.000000</td>\n",
              "      <td>NaN</td>\n",
              "      <td>0.000000</td>\n",
              "      <td>12</td>\n",
              "    </tr>\n",
              "    <tr>\n",
              "      <th>4</th>\n",
              "      <td>C10005</td>\n",
              "      <td>817.714335</td>\n",
              "      <td>1.000000</td>\n",
              "      <td>16.00</td>\n",
              "      <td>16.00</td>\n",
              "      <td>0.00</td>\n",
              "      <td>0.000000</td>\n",
              "      <td>0.083333</td>\n",
              "      <td>0.083333</td>\n",
              "      <td>0.000000</td>\n",
              "      <td>0.000000</td>\n",
              "      <td>0</td>\n",
              "      <td>1</td>\n",
              "      <td>1200.0</td>\n",
              "      <td>678.334763</td>\n",
              "      <td>244.791237</td>\n",
              "      <td>0.000000</td>\n",
              "      <td>12</td>\n",
              "    </tr>\n",
              "    <tr>\n",
              "      <th>...</th>\n",
              "      <td>...</td>\n",
              "      <td>...</td>\n",
              "      <td>...</td>\n",
              "      <td>...</td>\n",
              "      <td>...</td>\n",
              "      <td>...</td>\n",
              "      <td>...</td>\n",
              "      <td>...</td>\n",
              "      <td>...</td>\n",
              "      <td>...</td>\n",
              "      <td>...</td>\n",
              "      <td>...</td>\n",
              "      <td>...</td>\n",
              "      <td>...</td>\n",
              "      <td>...</td>\n",
              "      <td>...</td>\n",
              "      <td>...</td>\n",
              "      <td>...</td>\n",
              "    </tr>\n",
              "    <tr>\n",
              "      <th>8945</th>\n",
              "      <td>C19186</td>\n",
              "      <td>28.493517</td>\n",
              "      <td>1.000000</td>\n",
              "      <td>291.12</td>\n",
              "      <td>0.00</td>\n",
              "      <td>291.12</td>\n",
              "      <td>0.000000</td>\n",
              "      <td>1.000000</td>\n",
              "      <td>0.000000</td>\n",
              "      <td>0.833333</td>\n",
              "      <td>0.000000</td>\n",
              "      <td>0</td>\n",
              "      <td>6</td>\n",
              "      <td>1000.0</td>\n",
              "      <td>325.594462</td>\n",
              "      <td>48.886365</td>\n",
              "      <td>0.500000</td>\n",
              "      <td>6</td>\n",
              "    </tr>\n",
              "    <tr>\n",
              "      <th>8946</th>\n",
              "      <td>C19187</td>\n",
              "      <td>19.183215</td>\n",
              "      <td>1.000000</td>\n",
              "      <td>300.00</td>\n",
              "      <td>0.00</td>\n",
              "      <td>300.00</td>\n",
              "      <td>0.000000</td>\n",
              "      <td>1.000000</td>\n",
              "      <td>0.000000</td>\n",
              "      <td>0.833333</td>\n",
              "      <td>0.000000</td>\n",
              "      <td>0</td>\n",
              "      <td>6</td>\n",
              "      <td>1000.0</td>\n",
              "      <td>275.861322</td>\n",
              "      <td>NaN</td>\n",
              "      <td>0.000000</td>\n",
              "      <td>6</td>\n",
              "    </tr>\n",
              "    <tr>\n",
              "      <th>8947</th>\n",
              "      <td>C19188</td>\n",
              "      <td>23.398673</td>\n",
              "      <td>0.833333</td>\n",
              "      <td>144.40</td>\n",
              "      <td>0.00</td>\n",
              "      <td>144.40</td>\n",
              "      <td>0.000000</td>\n",
              "      <td>0.833333</td>\n",
              "      <td>0.000000</td>\n",
              "      <td>0.666667</td>\n",
              "      <td>0.000000</td>\n",
              "      <td>0</td>\n",
              "      <td>5</td>\n",
              "      <td>1000.0</td>\n",
              "      <td>81.270775</td>\n",
              "      <td>82.418369</td>\n",
              "      <td>0.250000</td>\n",
              "      <td>6</td>\n",
              "    </tr>\n",
              "    <tr>\n",
              "      <th>8948</th>\n",
              "      <td>C19189</td>\n",
              "      <td>13.457564</td>\n",
              "      <td>0.833333</td>\n",
              "      <td>0.00</td>\n",
              "      <td>0.00</td>\n",
              "      <td>0.00</td>\n",
              "      <td>36.558778</td>\n",
              "      <td>0.000000</td>\n",
              "      <td>0.000000</td>\n",
              "      <td>0.000000</td>\n",
              "      <td>0.166667</td>\n",
              "      <td>2</td>\n",
              "      <td>0</td>\n",
              "      <td>500.0</td>\n",
              "      <td>52.549959</td>\n",
              "      <td>55.755628</td>\n",
              "      <td>0.250000</td>\n",
              "      <td>6</td>\n",
              "    </tr>\n",
              "    <tr>\n",
              "      <th>8949</th>\n",
              "      <td>C19190</td>\n",
              "      <td>372.708075</td>\n",
              "      <td>0.666667</td>\n",
              "      <td>1093.25</td>\n",
              "      <td>1093.25</td>\n",
              "      <td>0.00</td>\n",
              "      <td>127.040008</td>\n",
              "      <td>0.666667</td>\n",
              "      <td>0.666667</td>\n",
              "      <td>0.000000</td>\n",
              "      <td>0.333333</td>\n",
              "      <td>2</td>\n",
              "      <td>23</td>\n",
              "      <td>1200.0</td>\n",
              "      <td>63.165404</td>\n",
              "      <td>88.288956</td>\n",
              "      <td>0.000000</td>\n",
              "      <td>6</td>\n",
              "    </tr>\n",
              "  </tbody>\n",
              "</table>\n",
              "<p>8950 rows × 18 columns</p>\n",
              "</div>"
            ],
            "text/plain": [
              "     CUST_ID      BALANCE  ...  PRC_FULL_PAYMENT  TENURE\n",
              "0     C10001    40.900749  ...          0.000000      12\n",
              "1     C10002  3202.467416  ...          0.222222      12\n",
              "2     C10003  2495.148862  ...          0.000000      12\n",
              "3     C10004  1666.670542  ...          0.000000      12\n",
              "4     C10005   817.714335  ...          0.000000      12\n",
              "...      ...          ...  ...               ...     ...\n",
              "8945  C19186    28.493517  ...          0.500000       6\n",
              "8946  C19187    19.183215  ...          0.000000       6\n",
              "8947  C19188    23.398673  ...          0.250000       6\n",
              "8948  C19189    13.457564  ...          0.250000       6\n",
              "8949  C19190   372.708075  ...          0.000000       6\n",
              "\n",
              "[8950 rows x 18 columns]"
            ]
          },
          "metadata": {
            "tags": []
          },
          "execution_count": 3
        }
      ]
    },
    {
      "cell_type": "code",
      "metadata": {
        "id": "VGGBZKLyH48N"
      },
      "source": [
        "data.drop('CUST_ID', axis=1, inplace=True)"
      ],
      "execution_count": 4,
      "outputs": []
    },
    {
      "cell_type": "code",
      "metadata": {
        "colab": {
          "base_uri": "https://localhost:8080/"
        },
        "id": "iwV9yrIvH9JN",
        "outputId": "e485a392-81c4-4e08-a8be-c19e38f24cbd"
      },
      "source": [
        "data.isnull().sum()"
      ],
      "execution_count": 6,
      "outputs": [
        {
          "output_type": "execute_result",
          "data": {
            "text/plain": [
              "BALANCE                               0\n",
              "BALANCE_FREQUENCY                     0\n",
              "PURCHASES                             0\n",
              "ONEOFF_PURCHASES                      0\n",
              "INSTALLMENTS_PURCHASES                0\n",
              "CASH_ADVANCE                          0\n",
              "PURCHASES_FREQUENCY                   0\n",
              "ONEOFF_PURCHASES_FREQUENCY            0\n",
              "PURCHASES_INSTALLMENTS_FREQUENCY      0\n",
              "CASH_ADVANCE_FREQUENCY                0\n",
              "CASH_ADVANCE_TRX                      0\n",
              "PURCHASES_TRX                         0\n",
              "CREDIT_LIMIT                          1\n",
              "PAYMENTS                              0\n",
              "MINIMUM_PAYMENTS                    313\n",
              "PRC_FULL_PAYMENT                      0\n",
              "TENURE                                0\n",
              "dtype: int64"
            ]
          },
          "metadata": {
            "tags": []
          },
          "execution_count": 6
        }
      ]
    },
    {
      "cell_type": "code",
      "metadata": {
        "colab": {
          "base_uri": "https://localhost:8080/"
        },
        "id": "gH31eg8UIAKz",
        "outputId": "92d3f88d-049e-476e-e7bb-d18cff635014"
      },
      "source": [
        "data['CREDIT_LIMIT'].fillna(value= data['CREDIT_LIMIT'].mean(), inplace=True)\r\n",
        "data['MINIMUM_PAYMENTS'].fillna(value= data['MINIMUM_PAYMENTS'].mean(), inplace=True)\r\n",
        "data.isnull().sum()"
      ],
      "execution_count": 7,
      "outputs": [
        {
          "output_type": "execute_result",
          "data": {
            "text/plain": [
              "BALANCE                             0\n",
              "BALANCE_FREQUENCY                   0\n",
              "PURCHASES                           0\n",
              "ONEOFF_PURCHASES                    0\n",
              "INSTALLMENTS_PURCHASES              0\n",
              "CASH_ADVANCE                        0\n",
              "PURCHASES_FREQUENCY                 0\n",
              "ONEOFF_PURCHASES_FREQUENCY          0\n",
              "PURCHASES_INSTALLMENTS_FREQUENCY    0\n",
              "CASH_ADVANCE_FREQUENCY              0\n",
              "CASH_ADVANCE_TRX                    0\n",
              "PURCHASES_TRX                       0\n",
              "CREDIT_LIMIT                        0\n",
              "PAYMENTS                            0\n",
              "MINIMUM_PAYMENTS                    0\n",
              "PRC_FULL_PAYMENT                    0\n",
              "TENURE                              0\n",
              "dtype: int64"
            ]
          },
          "metadata": {
            "tags": []
          },
          "execution_count": 7
        }
      ]
    },
    {
      "cell_type": "code",
      "metadata": {
        "id": "cMKKmC2ZkNGA"
      },
      "source": [
        "#DATA SCALING\r\n",
        "from sklearn.preprocessing import StandardScaler\r\n",
        "X = data[[\"BALANCE\",\"BALANCE_FREQUENCY\",\"PURCHASES\",\"ONEOFF_PURCHASES\",\"INSTALLMENTS_PURCHASES\",\"CASH_ADVANCE\",\"PURCHASES_FREQUENCY\",\"ONEOFF_PURCHASES_FREQUENCY\",\"PURCHASES_INSTALLMENTS_FREQUENCY\",\"CASH_ADVANCE_FREQUENCY\",\"CASH_ADVANCE_TRX\",\"PURCHASES_TRX\",\"CREDIT_LIMIT\",\"PAYMENTS\",\"MINIMUM_PAYMENTS\",\"PRC_FULL_PAYMENT\",\"TENURE\"]]\r\n",
        "scaler = StandardScaler()\r\n",
        "X_scaled = scaler.fit_transform(X)"
      ],
      "execution_count": 10,
      "outputs": []
    },
    {
      "cell_type": "code",
      "metadata": {
        "colab": {
          "base_uri": "https://localhost:8080/",
          "height": 415
        },
        "id": "sviR4tbKcI2J",
        "outputId": "8b1a5603-e56f-415e-f078-abc93eb7acba"
      },
      "source": [
        "#PCA\r\n",
        "pca = PCA(n_components=6)\r\n",
        "data_pca = pca.fit_transform(X_scaled)\r\n",
        "dfn = pd.DataFrame(data_pca ,  columns=['pca1' , 'pca2','pca3','pca4','pca5','pca6'])\r\n",
        "dfn"
      ],
      "execution_count": 11,
      "outputs": [
        {
          "output_type": "execute_result",
          "data": {
            "text/html": [
              "<div>\n",
              "<style scoped>\n",
              "    .dataframe tbody tr th:only-of-type {\n",
              "        vertical-align: middle;\n",
              "    }\n",
              "\n",
              "    .dataframe tbody tr th {\n",
              "        vertical-align: top;\n",
              "    }\n",
              "\n",
              "    .dataframe thead th {\n",
              "        text-align: right;\n",
              "    }\n",
              "</style>\n",
              "<table border=\"1\" class=\"dataframe\">\n",
              "  <thead>\n",
              "    <tr style=\"text-align: right;\">\n",
              "      <th></th>\n",
              "      <th>pca1</th>\n",
              "      <th>pca2</th>\n",
              "      <th>pca3</th>\n",
              "      <th>pca4</th>\n",
              "      <th>pca5</th>\n",
              "      <th>pca6</th>\n",
              "    </tr>\n",
              "  </thead>\n",
              "  <tbody>\n",
              "    <tr>\n",
              "      <th>0</th>\n",
              "      <td>-1.682220</td>\n",
              "      <td>-1.076451</td>\n",
              "      <td>0.488507</td>\n",
              "      <td>0.665552</td>\n",
              "      <td>0.018225</td>\n",
              "      <td>0.050629</td>\n",
              "    </tr>\n",
              "    <tr>\n",
              "      <th>1</th>\n",
              "      <td>-1.138295</td>\n",
              "      <td>2.506477</td>\n",
              "      <td>0.601212</td>\n",
              "      <td>-0.120437</td>\n",
              "      <td>0.605803</td>\n",
              "      <td>-1.136841</td>\n",
              "    </tr>\n",
              "    <tr>\n",
              "      <th>2</th>\n",
              "      <td>0.969684</td>\n",
              "      <td>-0.383520</td>\n",
              "      <td>0.102371</td>\n",
              "      <td>1.209266</td>\n",
              "      <td>-2.172584</td>\n",
              "      <td>-0.217222</td>\n",
              "    </tr>\n",
              "    <tr>\n",
              "      <th>3</th>\n",
              "      <td>-0.873628</td>\n",
              "      <td>0.043166</td>\n",
              "      <td>1.460167</td>\n",
              "      <td>1.151980</td>\n",
              "      <td>0.295632</td>\n",
              "      <td>-0.123689</td>\n",
              "    </tr>\n",
              "    <tr>\n",
              "      <th>4</th>\n",
              "      <td>-1.599434</td>\n",
              "      <td>-0.688581</td>\n",
              "      <td>0.365094</td>\n",
              "      <td>0.990232</td>\n",
              "      <td>-0.487039</td>\n",
              "      <td>0.075060</td>\n",
              "    </tr>\n",
              "    <tr>\n",
              "      <th>...</th>\n",
              "      <td>...</td>\n",
              "      <td>...</td>\n",
              "      <td>...</td>\n",
              "      <td>...</td>\n",
              "      <td>...</td>\n",
              "      <td>...</td>\n",
              "    </tr>\n",
              "    <tr>\n",
              "      <th>8945</th>\n",
              "      <td>-0.359629</td>\n",
              "      <td>-2.016145</td>\n",
              "      <td>-0.995355</td>\n",
              "      <td>-2.727433</td>\n",
              "      <td>0.268860</td>\n",
              "      <td>2.673305</td>\n",
              "    </tr>\n",
              "    <tr>\n",
              "      <th>8946</th>\n",
              "      <td>-0.564369</td>\n",
              "      <td>-1.639123</td>\n",
              "      <td>-1.290238</td>\n",
              "      <td>-1.860551</td>\n",
              "      <td>0.187104</td>\n",
              "      <td>3.384215</td>\n",
              "    </tr>\n",
              "    <tr>\n",
              "      <th>8947</th>\n",
              "      <td>-0.926204</td>\n",
              "      <td>-1.810786</td>\n",
              "      <td>-0.474723</td>\n",
              "      <td>-2.280239</td>\n",
              "      <td>0.386553</td>\n",
              "      <td>2.976948</td>\n",
              "    </tr>\n",
              "    <tr>\n",
              "      <th>8948</th>\n",
              "      <td>-2.336552</td>\n",
              "      <td>-0.657966</td>\n",
              "      <td>0.974725</td>\n",
              "      <td>-1.861279</td>\n",
              "      <td>0.069779</td>\n",
              "      <td>3.174380</td>\n",
              "    </tr>\n",
              "    <tr>\n",
              "      <th>8949</th>\n",
              "      <td>-0.556422</td>\n",
              "      <td>-0.400467</td>\n",
              "      <td>1.015196</td>\n",
              "      <td>-1.953237</td>\n",
              "      <td>-1.243000</td>\n",
              "      <td>3.753291</td>\n",
              "    </tr>\n",
              "  </tbody>\n",
              "</table>\n",
              "<p>8950 rows × 6 columns</p>\n",
              "</div>"
            ],
            "text/plain": [
              "          pca1      pca2      pca3      pca4      pca5      pca6\n",
              "0    -1.682220 -1.076451  0.488507  0.665552  0.018225  0.050629\n",
              "1    -1.138295  2.506477  0.601212 -0.120437  0.605803 -1.136841\n",
              "2     0.969684 -0.383520  0.102371  1.209266 -2.172584 -0.217222\n",
              "3    -0.873628  0.043166  1.460167  1.151980  0.295632 -0.123689\n",
              "4    -1.599434 -0.688581  0.365094  0.990232 -0.487039  0.075060\n",
              "...        ...       ...       ...       ...       ...       ...\n",
              "8945 -0.359629 -2.016145 -0.995355 -2.727433  0.268860  2.673305\n",
              "8946 -0.564369 -1.639123 -1.290238 -1.860551  0.187104  3.384215\n",
              "8947 -0.926204 -1.810786 -0.474723 -2.280239  0.386553  2.976948\n",
              "8948 -2.336552 -0.657966  0.974725 -1.861279  0.069779  3.174380\n",
              "8949 -0.556422 -0.400467  1.015196 -1.953237 -1.243000  3.753291\n",
              "\n",
              "[8950 rows x 6 columns]"
            ]
          },
          "metadata": {
            "tags": []
          },
          "execution_count": 11
        }
      ]
    },
    {
      "cell_type": "code",
      "metadata": {
        "colab": {
          "base_uri": "https://localhost:8080/",
          "height": 295
        },
        "id": "jfNJGPqdiw9D",
        "outputId": "728c31de-8600-4e5d-8559-85b0b55e6e71"
      },
      "source": [
        "#PCA explained variance criterion\r\n",
        "def display_scree_plot(pca):\r\n",
        "    scree = pca.explained_variance_ratio_*100\r\n",
        "    plt.bar(np.arange(len(scree))+1, scree)\r\n",
        "    plt.plot(np.arange(len(scree))+1, scree.cumsum(),c=\"red\",marker='o')\r\n",
        "    plt.xlabel(\"rang de l'axe d'inertie\")\r\n",
        "    plt.ylabel(\"pourcentage d'inertie\")\r\n",
        "    plt.title(\"Eboulis des valeurs propres\")\r\n",
        "    plt.show(block=False)\r\n",
        "display_scree_plot(pca)"
      ],
      "execution_count": 12,
      "outputs": [
        {
          "output_type": "display_data",
          "data": {
            "image/png": "[encoded data removed]",
            "text/plain": [
              "<Figure size 432x288 with 1 Axes>"
            ]
          },
          "metadata": {
            "tags": [],
            "needs_background": "light"
          }
        }
      ]
    },
    {
      "cell_type": "code",
      "metadata": {
        "id": "tDkZgkumr51R"
      },
      "source": [
        "new_data = dfn [['pca1','pca2','pca3','pca4']]"
      ],
      "execution_count": 42,
      "outputs": []
    },
    {
      "cell_type": "code",
      "metadata": {
        "id": "JDu8BACUyVv1"
      },
      "source": [
        "#Agglomerative Clustering\r\n",
        "model = AgglomerativeClustering(n_clusters=4 , affinity='euclidean' ,linkage='complete')\r\n",
        "label = model.fit_predict(new_data)\r\n",
        "predicted_df = pd.DataFrame(label)"
      ],
      "execution_count": 106,
      "outputs": []
    },
    {
      "cell_type": "code",
      "metadata": {
        "colab": {
          "base_uri": "https://localhost:8080/",
          "height": 295
        },
        "id": "HK1yfEsNIMGu",
        "outputId": "d423c246-fc21-4d4a-e925-97f29c73db60"
      },
      "source": [
        "fig =plt.figure()\r\n",
        "ax = fig.add_subplot(111)\r\n",
        "scatter = ax.scatter (new_data ['pca1'] , new_data [\"pca2\"] , c= predicted_df[0], s=50)\r\n",
        "ax.set_title(\"Agglomerative Clutering\")\r\n",
        "ax.set_xlabel(\"pca1\")\r\n",
        "ax.set_ylabel(\"pca2\")\r\n",
        "plt.colorbar(scatter)\r\n",
        "plt.show()"
      ],
      "execution_count": 121,
      "outputs": [
        {
          "output_type": "display_data",
          "data": {
            "image/png": "[encoded data removed]",
            "text/plain": [
              "<Figure size 432x288 with 2 Axes>"
            ]
          },
          "metadata": {
            "tags": [],
            "needs_background": "light"
          }
        }
      ]
    },
    {
      "cell_type": "code",
      "metadata": {
        "colab": {
          "base_uri": "https://localhost:8080/",
          "height": 447
        },
        "id": "X9h25YU7IO4M",
        "outputId": "11885b1a-8d55-4953-ee82-2fc303a7b2ab"
      },
      "source": [
        "plt.figure( figsize=(10,7))\r\n",
        "plt.title('customer')\r\n",
        "dend = ah.dendrogram(ah.linkage(new_data , method='complete'))\r\n",
        "plt.show()"
      ],
      "execution_count": 124,
      "outputs": [
        {
          "output_type": "display_data",
          "data": {
            "image/png": "[encoded data removed]",
            "text/plain": [
              "<Figure size 720x504 with 1 Axes>"
            ]
          },
          "metadata": {
            "tags": [],
            "needs_background": "light"
          }
        }
      ]
    },
    {
      "cell_type": "code",
      "metadata": {
        "id": "Oiws8WElI1iZ"
      },
      "source": [
        "#K-MEANS CLUSTERING\r\n",
        "model_k = KMeans(n_clusters=4)\r\n",
        "model_k.fit(new_data)\r\n",
        "predicted_df = pd.DataFrame(model_k.labels_)\r\n",
        "Clus_Cent_ = model_k.cluster_centers_\r\n",
        "data['label'] = predicted_df"
      ],
      "execution_count": 118,
      "outputs": []
    },
    {
      "cell_type": "code",
      "metadata": {
        "colab": {
          "base_uri": "https://localhost:8080/",
          "height": 295
        },
        "id": "UnL5jhHkJM1b",
        "outputId": "658aa2f4-03f4-42d1-b300-4e56213442b9"
      },
      "source": [
        "plt.scatter(new_data[\"pca1\"][data.label == 0],          \r\n",
        "            new_data[\"pca2\"][data.label == 0],s=80,c='magenta',label='Careful')\r\n",
        "plt.scatter(new_data[\"pca1\"][data.label == 1],\r\n",
        "           new_data[\"pca2\"][data.label == 1],s=80,c='yellow',label='Standard')\r\n",
        "plt.scatter(new_data[\"pca1\"][data.label == 2],\r\n",
        "           new_data[\"pca2\"][data.label == 2],s=80,c='green',label='Target')\r\n",
        "plt.scatter(new_data[\"pca1\"][data.label == 3], \r\n",
        "           new_data[\"pca2\"][data.label == 3],s=80,c='cyan',label='Careless')\r\n",
        "plt.scatter(new_data[\"pca1\"][data.label == 4], \r\n",
        "           new_data[\"pca2\"][data.label == 4],s=80,c='burlywood',label='Sensible')\r\n",
        "#plt.scatter(model.cluster_centers_[:, 0], model.cluster_centers_[:, 1], s=300, c='red', label = 'Centroids')\r\n",
        "plt.title('Clusters')\r\n",
        "plt.xlabel('pca1')\r\n",
        "plt.ylabel('pca2')\r\n",
        "plt.legend()\r\n",
        "plt.show()"
      ],
      "execution_count": 119,
      "outputs": [
        {
          "output_type": "display_data",
          "data": {
            "image/png": "[encoded data removed]",
            "text/plain": [
              "<Figure size 432x288 with 1 Axes>"
            ]
          },
          "metadata": {
            "tags": [],
            "needs_background": "light"
          }
        }
      ]
    },
    {
      "cell_type": "code",
      "metadata": {
        "colab": {
          "base_uri": "https://localhost:8080/"
        },
        "id": "pqLDdu8lwYYr",
        "outputId": "b8aa16f8-7ac9-4190-bf3e-7d22d299635b"
      },
      "source": [
        "model_k.inertia_"
      ],
      "execution_count": 120,
      "outputs": [
        {
          "output_type": "execute_result",
          "data": {
            "text/plain": [
              "45232.31733660445"
            ]
          },
          "metadata": {
            "tags": []
          },
          "execution_count": 120
        }
      ]
    },
    {
      "cell_type": "code",
      "metadata": {
        "id": "6aONvjKw0439"
      },
      "source": [
        "sum_err = []\r\n",
        "for k in range(1,10) :\r\n",
        "  km=KMeans(n_clusters=k)\r\n",
        "  km.fit(new_data)\r\n",
        "  sum_err.append(km.inertia_)"
      ],
      "execution_count": 122,
      "outputs": []
    },
    {
      "cell_type": "code",
      "metadata": {
        "colab": {
          "base_uri": "https://localhost:8080/",
          "height": 268
        },
        "id": "If_j0Utr2hZt",
        "outputId": "6a441df4-bd27-42e9-a5d0-ea1f03bf98b0"
      },
      "source": [
        "plt.plot(range(1,10),sum_err)\r\n",
        "plt.show()"
      ],
      "execution_count": 123,
      "outputs": [
        {
          "output_type": "display_data",
          "data": {
            "image/png": "[encoded data removed]",
            "text/plain": [
              "<Figure size 432x288 with 1 Axes>"
            ]
          },
          "metadata": {
            "tags": [],
            "needs_background": "light"
          }
        }
      ]
    },
    {
      "cell_type": "markdown",
      "metadata": {
        "id": "moZ_vaOB22VM"
      },
      "source": [
        "K=4 was indeed the good choice regarding the elbow method."
      ]
    },
    {
      "cell_type": "code",
      "metadata": {
        "id": "_c8BR0Cz218U"
      },
      "source": [
        ""
      ],
      "execution_count": null,
      "outputs": []
    }
  ]
}